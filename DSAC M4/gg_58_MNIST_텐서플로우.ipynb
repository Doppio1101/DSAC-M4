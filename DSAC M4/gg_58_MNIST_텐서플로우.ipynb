{
  "nbformat": 4,
  "nbformat_minor": 0,
  "metadata": {
    "accelerator": "GPU",
    "colab": {
      "name": "gg_58_MNIST_텐서플로우.ipynb",
      "provenance": [],
      "collapsed_sections": [],
      "machine_shape": "hm"
    },
    "kernelspec": {
      "display_name": "Python 3",
      "language": "python",
      "name": "python3"
    },
    "language_info": {
      "codemirror_mode": {
        "name": "ipython",
        "version": 3
      },
      "file_extension": ".py",
      "mimetype": "text/x-python",
      "name": "python",
      "nbconvert_exporter": "python",
      "pygments_lexer": "ipython3",
      "version": "3.6.6"
    }
  },
  "cells": [
    {
      "cell_type": "markdown",
      "metadata": {
        "id": "view-in-github"
      },
      "source": [
        "<a href=\"https://colab.research.google.com/github/StillWork/ds-lab/blob/master/gg_50_MNIST_%ED%85%90%EC%84%9C%ED%94%8C%EB%A1%9C%EC%9A%B0.ipynb\" target=\"_parent\"><img src=\"https://colab.research.google.com/assets/colab-badge.svg\" alt=\"Open In Colab\"/></a>"
      ]
    },
    {
      "cell_type": "code",
      "metadata": {
        "id": "O47nB7wtvVxz"
      },
      "source": [
        "%tensorflow_version 1.x\r\n",
        "import tensorflow.compat.v1 as tf\r\n",
        "from tensorflow.examples.tutorials.mnist import input_data"
      ],
      "execution_count": 3,
      "outputs": []
    },
    {
      "cell_type": "code",
      "metadata": {
        "colab": {
          "base_uri": "https://localhost:8080/"
        },
        "id": "T7-pAFnVaM1G",
        "outputId": "c1bc8de0-b890-415e-f197-21f89ea3cc01"
      },
      "source": [
        "# 단층 퍼셉트론으로 구축하기\n",
        "# 성능이 80% 정도 나온다\n",
        "\n",
        "#원핫 인코딩을 선택한다\n",
        "mnist_data = input_data.read_data_sets('MNIST_data', one_hot=True)\n",
        "\n",
        "input_size = 784\n",
        "no_classes = 10\n",
        "batch_size = 100\n",
        "total_batches = 200\n",
        "\n",
        "# None은 임의의 크기를 담을 수 있다는 것을 말한다\n",
        "x_input = tf.placeholder(tf.float32, shape=[None, input_size])\n",
        "y_input = tf.placeholder(tf.float32, shape=[None, no_classes])\n",
        "\n",
        "weights = tf.Variable(tf.random_normal([input_size, no_classes]))\n",
        "bias = tf.Variable(tf.random_normal([no_classes]))\n",
        "\n",
        "logits = tf.matmul(x_input, weights) + bias\n",
        "\n",
        "# 크로스엔트로피와 소프트맥스를 사용한다\n",
        "# 손실함수와, 최적화기를 선택\n",
        "# 학습속도 0.5\n",
        "softmax_cross_entropy = tf.nn.softmax_cross_entropy_with_logits(\n",
        "    labels=y_input, logits=logits)\n",
        "loss_operation = tf.reduce_mean(softmax_cross_entropy)\n",
        "optimiser = tf.train.GradientDescentOptimizer(\n",
        "    learning_rate=0.5).minimize(loss_operation)\n",
        "\n",
        "# 초기화\n",
        "session = tf.Session()\n",
        "session.run(tf.global_variables_initializer())\n",
        "\n",
        "# 배치 작업 수행 \n",
        "# feed_dict 인자에 훈련 데이터 딕셔너이를 공급\n",
        "for batch_no in range(total_batches):\n",
        "    mnist_batch = mnist_data.train.next_batch(batch_size)\n",
        "    train_images, train_labels = mnist_batch[0], mnist_batch[1]\n",
        "    _, loss_value = session.run([optimiser, loss_operation], feed_dict={\n",
        "        x_input: train_images,\n",
        "        y_input: train_labels\n",
        "    })\n",
        "\n",
        "predictions = tf.argmax(logits, 1)\n",
        "correct_predictions = tf.equal(predictions, tf.argmax(y_input, 1))\n",
        "accuracy_operation = tf.reduce_mean(tf.cast(correct_predictions,\n",
        "                                            tf.float32))\n",
        "test_images, test_labels = mnist_data.test.images, mnist_data.test.labels\n",
        "accuracy_value = session.run(accuracy_operation, feed_dict={\n",
        "    x_input: test_images,\n",
        "    y_input: test_labels\n",
        "})\n",
        "print('Accuracy : ', accuracy_value)\n",
        "session.close()\n"
      ],
      "execution_count": 4,
      "outputs": [
        {
          "output_type": "stream",
          "text": [
            "Extracting MNIST_data/train-images-idx3-ubyte.gz\n",
            "Extracting MNIST_data/train-labels-idx1-ubyte.gz\n",
            "Extracting MNIST_data/t10k-images-idx3-ubyte.gz\n",
            "Extracting MNIST_data/t10k-labels-idx1-ubyte.gz\n",
            "Accuracy :  0.8041\n"
          ],
          "name": "stdout"
        }
      ]
    },
    {
      "cell_type": "code",
      "metadata": {
        "id": "tgzRlOxSapKH",
        "outputId": "e2c484a0-f7e9-4379-9a31-4a584b16b4d8"
      },
      "source": [
        "import pandas as pd\n",
        "from sklearn.ensemble import RandomForestClassifier\n",
        "X = mnist_data.train.images\n",
        "y = mnist_data.train.labels\n",
        "rfc = RandomForestClassifier(n_estimators=50)\n",
        "rfc.fit(X,y)\n",
        "rfc.score(mnist_data.test.images, mnist_data.test.labels)"
      ],
      "execution_count": null,
      "outputs": [
        {
          "output_type": "execute_result",
          "data": {
            "text/plain": [
              "0.8971"
            ]
          },
          "metadata": {
            "tags": []
          },
          "execution_count": 11
        }
      ]
    }
  ]
}